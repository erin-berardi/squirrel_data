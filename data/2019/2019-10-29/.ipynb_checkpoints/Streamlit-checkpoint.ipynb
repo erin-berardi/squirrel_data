{
 "cells": [
  {
   "cell_type": "code",
   "execution_count": 1,
   "metadata": {},
   "outputs": [],
   "source": [
    "import streamlit as st\n",
    "import matplotlib.pyplot as plt \n",
    "import matplotlib\n",
    "import seaborn as sns\n",
    "import pandas as pd \n",
    "import numpy as np\n",
    "from PIL import Image "
   ]
  },
  {
   "cell_type": "code",
   "execution_count": null,
   "metadata": {},
   "outputs": [
    {
     "name": "stdout",
     "output_type": "stream",
     "text": [
      "[NbConvertApp] Converting notebook squirrel_notebook.ipynb to script\n",
      "[NbConvertApp] Writing 6994 bytes to squirrel_notebook.py\n",
      "\u001b[0m\n",
      "\u001b[34m\u001b[1m  You can now view your Streamlit app in your browser.\u001b[0m\n",
      "\u001b[0m\n",
      "\u001b[34m  Local URL: \u001b[0m\u001b[1mhttp://localhost:8501\u001b[0m\n",
      "\u001b[34m  Network URL: \u001b[0m\u001b[1mhttp://192.168.2.6:8501\u001b[0m\n",
      "\u001b[0m\n",
      "<class 'pandas.core.frame.DataFrame'>\n",
      "RangeIndex: 3023 entries, 0 to 3022\n",
      "Data columns (total 36 columns):\n",
      " #   Column                                      Non-Null Count  Dtype  \n",
      "---  ------                                      --------------  -----  \n",
      " 0   long                                        3023 non-null   float64\n",
      " 1   lat                                         3023 non-null   float64\n",
      " 2   unique_squirrel_id                          3023 non-null   object \n",
      " 3   hectare                                     3023 non-null   object \n",
      " 4   shift                                       3023 non-null   object \n",
      " 5   date                                        3023 non-null   int64  \n",
      " 6   hectare_squirrel_number                     3023 non-null   int64  \n",
      " 7   age                                         2902 non-null   object \n",
      " 8   primary_fur_color                           2968 non-null   object \n",
      " 9   highlight_fur_color                         1937 non-null   object \n",
      " 10  combination_of_primary_and_highlight_color  3023 non-null   object \n",
      " 11  color_notes                                 182 non-null    object \n",
      " 12  location                                    2959 non-null   object \n",
      " 13  above_ground_sighter_measurement            2909 non-null   object \n",
      " 14  specific_location                           476 non-null    object \n",
      " 15  running                                     3023 non-null   bool   \n",
      " 16  chasing                                     3023 non-null   bool   \n",
      " 17  climbing                                    3023 non-null   bool   \n",
      " 18  eating                                      3023 non-null   bool   \n",
      " 19  foraging                                    3023 non-null   bool   \n",
      " 20  other_activities                            437 non-null    object \n",
      " 21  kuks                                        3023 non-null   bool   \n",
      " 22  quaas                                       3023 non-null   bool   \n",
      " 23  moans                                       3023 non-null   bool   \n",
      " 24  tail_flags                                  3023 non-null   bool   \n",
      " 25  tail_twitches                               3023 non-null   bool   \n",
      " 26  approaches                                  3023 non-null   bool   \n",
      " 27  indifferent                                 3023 non-null   bool   \n",
      " 28  runs_from                                   3023 non-null   bool   \n",
      " 29  other_interactions                          240 non-null    object \n",
      " 30  lat_long                                    3023 non-null   object \n",
      " 31  zip_codes                                   9 non-null      float64\n",
      " 32  community_districts                         3023 non-null   int64  \n",
      " 33  borough_boundaries                          3023 non-null   int64  \n",
      " 34  city_council_districts                      3023 non-null   int64  \n",
      " 35  police_precincts                            3023 non-null   int64  \n",
      "dtypes: bool(13), float64(3), int64(6), object(14)\n",
      "memory usage: 581.7+ KB\n",
      "/Users/erinberardi/Ironhack/squirrel_data/data/2019/2019-10-29/app.py:256: UserWarning: Matplotlib is currently using agg, which is a non-GUI backend, so cannot show the figure.\n",
      "  plt.show()\n",
      "/Users/erinberardi/Ironhack/squirrel_data/data/2019/2019-10-29/app.py:267: UserWarning: Matplotlib is currently using agg, which is a non-GUI backend, so cannot show the figure.\n",
      "  plt.show()\n",
      "/Users/erinberardi/Ironhack/squirrel_data/data/2019/2019-10-29/app.py:283: UserWarning: Matplotlib is currently using agg, which is a non-GUI backend, so cannot show the figure.\n",
      "  plt.show()\n",
      "/Users/erinberardi/Ironhack/squirrel_data/data/2019/2019-10-29/app.py:295: UserWarning: Matplotlib is currently using agg, which is a non-GUI backend, so cannot show the figure.\n",
      "  plt.show()\n",
      "/Users/erinberardi/Ironhack/squirrel_data/data/2019/2019-10-29/app.py:320: UserWarning: Matplotlib is currently using agg, which is a non-GUI backend, so cannot show the figure.\n",
      "  plt.show()\n"
     ]
    }
   ],
   "source": [
    "!jupyter nbconvert   --to script squirrel_notebook.ipynb\n",
    "!awk '!/ipython/' squirrel_notebook.py >  temp.py && mv temp.py app.py && rm squirrel_notebook.py\n",
    "!streamlit run app.py\n",
    "!streamlit run /Users/erinberardi/opt/anaconda3/lib/python3.8/site-packages/ipykernel_launcher.py [ARGUMENTS]"
   ]
  },
  {
   "cell_type": "code",
   "execution_count": null,
   "metadata": {},
   "outputs": [],
   "source": [
    "#streamlit run /Users/erinberardi/opt/anaconda3/lib/python3.8/site-packages/ipykernel_launcher.py [ARGUMENTS]\n",
    "header = st.beta_container()\n",
    "dataset = st.beta_container()\n",
    "features = st.beta_container()"
   ]
  },
  {
   "cell_type": "code",
   "execution_count": null,
   "metadata": {},
   "outputs": [],
   "source": [
    "with header:\n",
    "    st.title('Introduction to Data Analysis')\n",
    "    st.text('Squirrels of Central Park, NYC')"
   ]
  },
  {
   "cell_type": "code",
   "execution_count": null,
   "metadata": {},
   "outputs": [],
   "source": []
  },
  {
   "cell_type": "code",
   "execution_count": null,
   "metadata": {},
   "outputs": [],
   "source": []
  },
  {
   "cell_type": "code",
   "execution_count": null,
   "metadata": {},
   "outputs": [],
   "source": []
  },
  {
   "cell_type": "code",
   "execution_count": null,
   "metadata": {},
   "outputs": [],
   "source": []
  },
  {
   "cell_type": "code",
   "execution_count": null,
   "metadata": {},
   "outputs": [],
   "source": []
  },
  {
   "cell_type": "code",
   "execution_count": null,
   "metadata": {},
   "outputs": [],
   "source": []
  },
  {
   "cell_type": "code",
   "execution_count": null,
   "metadata": {},
   "outputs": [],
   "source": []
  },
  {
   "cell_type": "code",
   "execution_count": null,
   "metadata": {},
   "outputs": [],
   "source": []
  },
  {
   "cell_type": "code",
   "execution_count": null,
   "metadata": {},
   "outputs": [],
   "source": []
  },
  {
   "cell_type": "code",
   "execution_count": null,
   "metadata": {},
   "outputs": [],
   "source": []
  }
 ],
 "metadata": {
  "kernelspec": {
   "display_name": "Python 3",
   "language": "python",
   "name": "python3"
  },
  "language_info": {
   "codemirror_mode": {
    "name": "ipython",
    "version": 3
   },
   "file_extension": ".py",
   "mimetype": "text/x-python",
   "name": "python",
   "nbconvert_exporter": "python",
   "pygments_lexer": "ipython3",
   "version": "3.8.3"
  }
 },
 "nbformat": 4,
 "nbformat_minor": 4
}
